{
 "cells": [
  {
   "cell_type": "code",
   "execution_count": 29,
   "id": "stuck-startup",
   "metadata": {},
   "outputs": [],
   "source": [
    "from django.template import Context, Template\n",
    "from polls.models import Choice, Question"
   ]
  },
  {
   "cell_type": "code",
   "execution_count": 30,
   "id": "healthy-resource",
   "metadata": {},
   "outputs": [],
   "source": [
    "import os\n",
    "os.environ[\"DJANGO_ALLOW_ASYNC_UNSAFE\"] = \"true\""
   ]
  },
  {
   "cell_type": "code",
   "execution_count": 31,
   "id": "disturbed-corruption",
   "metadata": {},
   "outputs": [],
   "source": [
    "q = Question.objects.get(id=2)"
   ]
  },
  {
   "cell_type": "code",
   "execution_count": 32,
   "id": "horizontal-ridge",
   "metadata": {},
   "outputs": [
    {
     "data": {
      "text/plain": [
       "<QuerySet [<Choice: Not much>, <Choice: The sky>]>"
      ]
     },
     "execution_count": 32,
     "metadata": {},
     "output_type": "execute_result"
    }
   ],
   "source": [
    "q.choice_set.all()"
   ]
  },
  {
   "cell_type": "code",
   "execution_count": 33,
   "id": "median-swing",
   "metadata": {},
   "outputs": [
    {
     "data": {
      "text/plain": [
       "2"
      ]
     },
     "execution_count": 33,
     "metadata": {},
     "output_type": "execute_result"
    }
   ],
   "source": [
    "q.choice_set.all()[0].votes"
   ]
  },
  {
   "cell_type": "code",
   "execution_count": 34,
   "id": "female-heath",
   "metadata": {},
   "outputs": [
    {
     "data": {
      "text/plain": [
       "1"
      ]
     },
     "execution_count": 34,
     "metadata": {},
     "output_type": "execute_result"
    }
   ],
   "source": [
    "q.choice_set.all()[1].votes"
   ]
  },
  {
   "cell_type": "code",
   "execution_count": null,
   "id": "atmospheric-artwork",
   "metadata": {},
   "outputs": [],
   "source": []
  }
 ],
 "metadata": {
  "kernelspec": {
   "display_name": "Django Shell-Plus",
   "language": "python",
   "name": "django_extensions"
  },
  "language_info": {
   "codemirror_mode": {
    "name": "ipython",
    "version": 3
   },
   "file_extension": ".py",
   "mimetype": "text/x-python",
   "name": "python",
   "nbconvert_exporter": "python",
   "pygments_lexer": "ipython3",
   "version": "3.7.9"
  }
 },
 "nbformat": 4,
 "nbformat_minor": 5
}
