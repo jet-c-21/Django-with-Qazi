{
 "cells": [
  {
   "cell_type": "code",
   "execution_count": 1,
   "id": "stuck-startup",
   "metadata": {},
   "outputs": [],
   "source": [
    "from django.template import Context, Template\n",
    "from polls.models import Choice, Question"
   ]
  },
  {
   "cell_type": "code",
   "execution_count": 2,
   "id": "healthy-resource",
   "metadata": {},
   "outputs": [],
   "source": [
    "import os\n",
    "os.environ[\"DJANGO_ALLOW_ASYNC_UNSAFE\"] = \"true\""
   ]
  },
  {
   "cell_type": "code",
   "execution_count": 3,
   "id": "atmospheric-artwork",
   "metadata": {},
   "outputs": [],
   "source": [
    "import datetime"
   ]
  },
  {
   "cell_type": "code",
   "execution_count": 4,
   "id": "first-timber",
   "metadata": {},
   "outputs": [],
   "source": [
    "from django.utils import timezone\n",
    "from polls.models import Question"
   ]
  },
  {
   "cell_type": "code",
   "execution_count": 7,
   "id": "tired-prince",
   "metadata": {},
   "outputs": [],
   "source": [
    "from django.test.utils import setup_test_environment\n",
    "setup_test_environment()"
   ]
  },
  {
   "cell_type": "code",
   "execution_count": 8,
   "id": "comparative-billy",
   "metadata": {},
   "outputs": [],
   "source": [
    "from django.test import Client"
   ]
  },
  {
   "cell_type": "code",
   "execution_count": 9,
   "id": "raising-intranet",
   "metadata": {},
   "outputs": [],
   "source": [
    "client = Client()"
   ]
  },
  {
   "cell_type": "code",
   "execution_count": 10,
   "id": "silver-color",
   "metadata": {},
   "outputs": [
    {
     "name": "stderr",
     "output_type": "stream",
     "text": [
      "Not Found: /\n"
     ]
    }
   ],
   "source": [
    "response = client.get('/')"
   ]
  },
  {
   "cell_type": "code",
   "execution_count": 11,
   "id": "conditional-plumbing",
   "metadata": {},
   "outputs": [
    {
     "data": {
      "text/plain": [
       "404"
      ]
     },
     "execution_count": 11,
     "metadata": {},
     "output_type": "execute_result"
    }
   ],
   "source": [
    "response.status_code"
   ]
  },
  {
   "cell_type": "code",
   "execution_count": 12,
   "id": "associate-church",
   "metadata": {},
   "outputs": [],
   "source": [
    "from django.urls import reverse"
   ]
  },
  {
   "cell_type": "code",
   "execution_count": 13,
   "id": "waiting-weight",
   "metadata": {},
   "outputs": [],
   "source": [
    "response = client.get(reverse('polls:index'))"
   ]
  },
  {
   "cell_type": "code",
   "execution_count": 14,
   "id": "determined-staff",
   "metadata": {},
   "outputs": [
    {
     "data": {
      "text/plain": [
       "200"
      ]
     },
     "execution_count": 14,
     "metadata": {},
     "output_type": "execute_result"
    }
   ],
   "source": [
    "response.status_code"
   ]
  },
  {
   "cell_type": "code",
   "execution_count": 15,
   "id": "consolidated-christian",
   "metadata": {},
   "outputs": [
    {
     "data": {
      "text/plain": [
       "b'<!DOCTYPE html>\\n<html lang=\"en\">\\n<head>\\n    <meta charset=\"UTF-8\">\\n    <title>index</title>\\n</head>\\n\\n<body>\\n\\n    <ul>\\n        \\n            \\n\\n            \\n\\n            \\n            <li><a href=\"/polls/2/\">What&#x27;s crackin?</a></li>\\n        \\n            \\n\\n            \\n\\n            \\n            <li><a href=\"/polls/1/\">What&#x27;s up?</a></li>\\n        \\n    </ul>\\n\\n</body>\\n\\n</html>'"
      ]
     },
     "execution_count": 15,
     "metadata": {},
     "output_type": "execute_result"
    }
   ],
   "source": [
    "response.content"
   ]
  },
  {
   "cell_type": "code",
   "execution_count": 16,
   "id": "arabic-academy",
   "metadata": {},
   "outputs": [
    {
     "data": {
      "text/plain": [
       "<QuerySet [<Question: What's crackin?>, <Question: What's up?>]>"
      ]
     },
     "execution_count": 16,
     "metadata": {},
     "output_type": "execute_result"
    }
   ],
   "source": [
    "response.context['latest_question_list']"
   ]
  },
  {
   "cell_type": "code",
   "execution_count": null,
   "id": "complete-eleven",
   "metadata": {},
   "outputs": [],
   "source": []
  },
  {
   "cell_type": "code",
   "execution_count": null,
   "id": "social-portfolio",
   "metadata": {},
   "outputs": [],
   "source": []
  },
  {
   "cell_type": "code",
   "execution_count": null,
   "id": "detected-israel",
   "metadata": {},
   "outputs": [],
   "source": []
  },
  {
   "cell_type": "code",
   "execution_count": null,
   "id": "criminal-dayton",
   "metadata": {},
   "outputs": [],
   "source": []
  },
  {
   "cell_type": "code",
   "execution_count": null,
   "id": "velvet-module",
   "metadata": {},
   "outputs": [],
   "source": []
  },
  {
   "cell_type": "code",
   "execution_count": null,
   "id": "mature-wrapping",
   "metadata": {},
   "outputs": [],
   "source": []
  }
 ],
 "metadata": {
  "kernelspec": {
   "display_name": "Django Shell-Plus",
   "language": "python",
   "name": "django_extensions"
  },
  "language_info": {
   "codemirror_mode": {
    "name": "ipython",
    "version": 3
   },
   "file_extension": ".py",
   "mimetype": "text/x-python",
   "name": "python",
   "nbconvert_exporter": "python",
   "pygments_lexer": "ipython3",
   "version": "3.7.9"
  }
 },
 "nbformat": 4,
 "nbformat_minor": 5
}
